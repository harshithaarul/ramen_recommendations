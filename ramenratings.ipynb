{
  "nbformat": 4,
  "nbformat_minor": 0,
  "metadata": {
    "colab": {
      "name": "ramenratings.ipynb",
      "provenance": [],
      "collapsed_sections": []
    },
    "kernelspec": {
      "name": "python3",
      "display_name": "Python 3"
    },
    "language_info": {
      "name": "python"
    }
  },
  "cells": [
    {
      "cell_type": "code",
      "metadata": {
        "id": "d57mFoy-f_zV"
      },
      "source": [
        "import numpy as np\n",
        "import matplotlib.pyplot as plt\n",
        "import pandas as pd\n",
        "import re\n",
        "from sklearn.feature_extraction.text import CountVectorizer\n",
        "from sklearn.feature_extraction.text import TfidfVectorizer\n",
        "from sklearn.cluster import KMeans\n",
        "\n",
        "from nltk.stem.lancaster import LancasterStemmer\n",
        "from nltk.tokenize import word_tokenize\n",
        "\n",
        "from LocalitySensitiveHashing import *\n",
        "\n",
        "#from annoy import AnnoyIndex"
      ],
      "execution_count": 3,
      "outputs": []
    },
    {
      "cell_type": "code",
      "metadata": {
        "colab": {
          "base_uri": "https://localhost:8080/"
        },
        "id": "T8nSsJT9oG2q",
        "outputId": "28eb1b81-a8c0-4047-8e42-d38209ea2b02"
      },
      "source": [
        "!pip install LocalitySensitiveHashing\n",
        "!pip install BitVector"
      ],
      "execution_count": 2,
      "outputs": [
        {
          "output_type": "stream",
          "name": "stdout",
          "text": [
            "Collecting LocalitySensitiveHashing\n",
            "  Downloading LocalitySensitiveHashing-1.0.1.tar.gz (63 kB)\n",
            "\u001b[?25l\r\u001b[K     |█████▏                          | 10 kB 21.0 MB/s eta 0:00:01\r\u001b[K     |██████████▎                     | 20 kB 25.9 MB/s eta 0:00:01\r\u001b[K     |███████████████▌                | 30 kB 28.3 MB/s eta 0:00:01\r\u001b[K     |████████████████████▋           | 40 kB 18.8 MB/s eta 0:00:01\r\u001b[K     |█████████████████████████▊      | 51 kB 11.3 MB/s eta 0:00:01\r\u001b[K     |███████████████████████████████ | 61 kB 9.3 MB/s eta 0:00:01\r\u001b[K     |████████████████████████████████| 63 kB 1.9 MB/s \n",
            "\u001b[?25hBuilding wheels for collected packages: LocalitySensitiveHashing\n",
            "  Building wheel for LocalitySensitiveHashing (setup.py) ... \u001b[?25l\u001b[?25hdone\n",
            "  Created wheel for LocalitySensitiveHashing: filename=LocalitySensitiveHashing-1.0.1-py3-none-any.whl size=21905 sha256=4b6c7bf9d3c565b0d4600fcc673d5b42c37be81527e6961fbd0fc07530a10294\n",
            "  Stored in directory: /root/.cache/pip/wheels/ce/d1/63/c4289a64f47cb9615af549422ea9c6a5e681561b24422892ef\n",
            "Successfully built LocalitySensitiveHashing\n",
            "Installing collected packages: LocalitySensitiveHashing\n",
            "Successfully installed LocalitySensitiveHashing-1.0.1\n",
            "Collecting BitVector\n",
            "  Downloading BitVector-3.5.0.tar.gz (161 kB)\n",
            "\u001b[K     |████████████████████████████████| 161 kB 10.1 MB/s \n",
            "\u001b[?25hBuilding wheels for collected packages: BitVector\n",
            "  Building wheel for BitVector (setup.py) ... \u001b[?25l\u001b[?25hdone\n",
            "  Created wheel for BitVector: filename=BitVector-3.5.0-py3-none-any.whl size=43508 sha256=fb669aeb19ab32ee6191fd91f8eb201d08a28045694fd1304c4feadb7ef1f516\n",
            "  Stored in directory: /root/.cache/pip/wheels/6f/6c/b6/c8f6bb33d1e9638df10214d2b08cb70647936dbf4595fabbc3\n",
            "Successfully built BitVector\n",
            "Installing collected packages: BitVector\n",
            "Successfully installed BitVector-3.5.0\n"
          ]
        }
      ]
    },
    {
      "cell_type": "code",
      "metadata": {
        "id": "h_FZFYtsgbzJ"
      },
      "source": [
        "train_data = pd.read_csv(\"ramen-ratings.csv\")\n",
        "train_data = train_data.iloc[:, 1:-1]"
      ],
      "execution_count": 32,
      "outputs": []
    },
    {
      "cell_type": "code",
      "metadata": {
        "colab": {
          "base_uri": "https://localhost:8080/",
          "height": 417
        },
        "id": "pLqtlrH4gmOg",
        "outputId": "733ba2a8-657c-4921-821b-f5d2f7f8923f"
      },
      "source": [
        "train_data"
      ],
      "execution_count": 33,
      "outputs": [
        {
          "output_type": "execute_result",
          "data": {
            "text/html": [
              "<div>\n",
              "<style scoped>\n",
              "    .dataframe tbody tr th:only-of-type {\n",
              "        vertical-align: middle;\n",
              "    }\n",
              "\n",
              "    .dataframe tbody tr th {\n",
              "        vertical-align: top;\n",
              "    }\n",
              "\n",
              "    .dataframe thead th {\n",
              "        text-align: right;\n",
              "    }\n",
              "</style>\n",
              "<table border=\"1\" class=\"dataframe\">\n",
              "  <thead>\n",
              "    <tr style=\"text-align: right;\">\n",
              "      <th></th>\n",
              "      <th>Brand</th>\n",
              "      <th>Variety</th>\n",
              "      <th>Style</th>\n",
              "      <th>Country</th>\n",
              "      <th>Stars</th>\n",
              "    </tr>\n",
              "  </thead>\n",
              "  <tbody>\n",
              "    <tr>\n",
              "      <th>0</th>\n",
              "      <td>New Touch</td>\n",
              "      <td>T's Restaurant Tantanmen</td>\n",
              "      <td>Cup</td>\n",
              "      <td>Japan</td>\n",
              "      <td>3.75</td>\n",
              "    </tr>\n",
              "    <tr>\n",
              "      <th>1</th>\n",
              "      <td>Just Way</td>\n",
              "      <td>Noodles Spicy Hot Sesame Spicy Hot Sesame Guan...</td>\n",
              "      <td>Pack</td>\n",
              "      <td>Taiwan</td>\n",
              "      <td>1</td>\n",
              "    </tr>\n",
              "    <tr>\n",
              "      <th>2</th>\n",
              "      <td>Nissin</td>\n",
              "      <td>Cup Noodles Chicken Vegetable</td>\n",
              "      <td>Cup</td>\n",
              "      <td>USA</td>\n",
              "      <td>2.25</td>\n",
              "    </tr>\n",
              "    <tr>\n",
              "      <th>3</th>\n",
              "      <td>Wei Lih</td>\n",
              "      <td>GGE Ramen Snack Tomato Flavor</td>\n",
              "      <td>Pack</td>\n",
              "      <td>Taiwan</td>\n",
              "      <td>2.75</td>\n",
              "    </tr>\n",
              "    <tr>\n",
              "      <th>4</th>\n",
              "      <td>Ching's Secret</td>\n",
              "      <td>Singapore Curry</td>\n",
              "      <td>Pack</td>\n",
              "      <td>India</td>\n",
              "      <td>3.75</td>\n",
              "    </tr>\n",
              "    <tr>\n",
              "      <th>...</th>\n",
              "      <td>...</td>\n",
              "      <td>...</td>\n",
              "      <td>...</td>\n",
              "      <td>...</td>\n",
              "      <td>...</td>\n",
              "    </tr>\n",
              "    <tr>\n",
              "      <th>2575</th>\n",
              "      <td>Vifon</td>\n",
              "      <td>Hu Tiu Nam Vang [\"Phnom Penh\" style] Asian Sty...</td>\n",
              "      <td>Bowl</td>\n",
              "      <td>Vietnam</td>\n",
              "      <td>3.5</td>\n",
              "    </tr>\n",
              "    <tr>\n",
              "      <th>2576</th>\n",
              "      <td>Wai Wai</td>\n",
              "      <td>Oriental Style Instant Noodles</td>\n",
              "      <td>Pack</td>\n",
              "      <td>Thailand</td>\n",
              "      <td>1</td>\n",
              "    </tr>\n",
              "    <tr>\n",
              "      <th>2577</th>\n",
              "      <td>Wai Wai</td>\n",
              "      <td>Tom Yum Shrimp</td>\n",
              "      <td>Pack</td>\n",
              "      <td>Thailand</td>\n",
              "      <td>2</td>\n",
              "    </tr>\n",
              "    <tr>\n",
              "      <th>2578</th>\n",
              "      <td>Wai Wai</td>\n",
              "      <td>Tom Yum Chili Flavor</td>\n",
              "      <td>Pack</td>\n",
              "      <td>Thailand</td>\n",
              "      <td>2</td>\n",
              "    </tr>\n",
              "    <tr>\n",
              "      <th>2579</th>\n",
              "      <td>Westbrae</td>\n",
              "      <td>Miso Ramen</td>\n",
              "      <td>Pack</td>\n",
              "      <td>USA</td>\n",
              "      <td>0.5</td>\n",
              "    </tr>\n",
              "  </tbody>\n",
              "</table>\n",
              "<p>2580 rows × 5 columns</p>\n",
              "</div>"
            ],
            "text/plain": [
              "               Brand  ... Stars\n",
              "0          New Touch  ...  3.75\n",
              "1           Just Way  ...     1\n",
              "2             Nissin  ...  2.25\n",
              "3            Wei Lih  ...  2.75\n",
              "4     Ching's Secret  ...  3.75\n",
              "...              ...  ...   ...\n",
              "2575           Vifon  ...   3.5\n",
              "2576         Wai Wai  ...     1\n",
              "2577         Wai Wai  ...     2\n",
              "2578         Wai Wai  ...     2\n",
              "2579        Westbrae  ...   0.5\n",
              "\n",
              "[2580 rows x 5 columns]"
            ]
          },
          "metadata": {},
          "execution_count": 33
        }
      ]
    },
    {
      "cell_type": "code",
      "metadata": {
        "id": "jMUftlAvhmhS"
      },
      "source": [
        "train_data[\"Variety\"] = train_data[\"Variety\"] + \" \" + train_data[\"Brand\"] + \" \" + train_data[\"Style\"] + \" \" + train_data[\"Country\"]\n",
        "\n",
        "train_data[\"Variety\"] = train_data[\"Variety\"].astype(str)"
      ],
      "execution_count": 34,
      "outputs": []
    },
    {
      "cell_type": "code",
      "metadata": {
        "colab": {
          "base_uri": "https://localhost:8080/",
          "height": 417
        },
        "id": "wxpZ9Nm2i1fS",
        "outputId": "f61b216f-f4d1-4209-941e-3e65ec4be719"
      },
      "source": [
        "#Processing the text\n",
        "stemmer = LancasterStemmer()\n",
        "\n",
        "def processing(text):\n",
        "  text = re.sub(r'\\@\\S+','',text)\n",
        "  text = re.sub(r'http\\:\\/\\/\\S+','',text)\n",
        "  text = re.sub(r'[^\\w\\s]','',text)\n",
        "  tokens = text.lower().split(\" \")\n",
        "  stemmed_tokens = [stemmer.stem(x) for x in tokens]\n",
        "  return ' '.join(stemmed_tokens)\n",
        "\n",
        "train_data[\"Variety\"] = train_data[\"Variety\"].apply(processing)\n",
        "train_data"
      ],
      "execution_count": 35,
      "outputs": [
        {
          "output_type": "execute_result",
          "data": {
            "text/html": [
              "<div>\n",
              "<style scoped>\n",
              "    .dataframe tbody tr th:only-of-type {\n",
              "        vertical-align: middle;\n",
              "    }\n",
              "\n",
              "    .dataframe tbody tr th {\n",
              "        vertical-align: top;\n",
              "    }\n",
              "\n",
              "    .dataframe thead th {\n",
              "        text-align: right;\n",
              "    }\n",
              "</style>\n",
              "<table border=\"1\" class=\"dataframe\">\n",
              "  <thead>\n",
              "    <tr style=\"text-align: right;\">\n",
              "      <th></th>\n",
              "      <th>Brand</th>\n",
              "      <th>Variety</th>\n",
              "      <th>Style</th>\n",
              "      <th>Country</th>\n",
              "      <th>Stars</th>\n",
              "    </tr>\n",
              "  </thead>\n",
              "  <tbody>\n",
              "    <tr>\n",
              "      <th>0</th>\n",
              "      <td>New Touch</td>\n",
              "      <td>ts resta tantanm  new touch cup jap</td>\n",
              "      <td>Cup</td>\n",
              "      <td>Japan</td>\n",
              "      <td>3.75</td>\n",
              "    </tr>\n",
              "    <tr>\n",
              "      <th>1</th>\n",
              "      <td>Just Way</td>\n",
              "      <td>noodl spicy hot sesam spicy hot sesam guanmiao...</td>\n",
              "      <td>Pack</td>\n",
              "      <td>Taiwan</td>\n",
              "      <td>1</td>\n",
              "    </tr>\n",
              "    <tr>\n",
              "      <th>2</th>\n",
              "      <td>Nissin</td>\n",
              "      <td>cup noodl chick veget nissin cup us</td>\n",
              "      <td>Cup</td>\n",
              "      <td>USA</td>\n",
              "      <td>2.25</td>\n",
              "    </tr>\n",
              "    <tr>\n",
              "      <th>3</th>\n",
              "      <td>Wei Lih</td>\n",
              "      <td>gge ram snack tomato flav wei lih pack taiw</td>\n",
              "      <td>Pack</td>\n",
              "      <td>Taiwan</td>\n",
              "      <td>2.75</td>\n",
              "    </tr>\n",
              "    <tr>\n",
              "      <th>4</th>\n",
              "      <td>Ching's Secret</td>\n",
              "      <td>singap curry ching secret pack ind</td>\n",
              "      <td>Pack</td>\n",
              "      <td>India</td>\n",
              "      <td>3.75</td>\n",
              "    </tr>\n",
              "    <tr>\n",
              "      <th>...</th>\n",
              "      <td>...</td>\n",
              "      <td>...</td>\n",
              "      <td>...</td>\n",
              "      <td>...</td>\n",
              "      <td>...</td>\n",
              "    </tr>\n",
              "    <tr>\n",
              "      <th>2575</th>\n",
              "      <td>Vifon</td>\n",
              "      <td>hu tiu nam vang phnom penh styl as styl instan...</td>\n",
              "      <td>Bowl</td>\n",
              "      <td>Vietnam</td>\n",
              "      <td>3.5</td>\n",
              "    </tr>\n",
              "    <tr>\n",
              "      <th>2576</th>\n",
              "      <td>Wai Wai</td>\n",
              "      <td>ory styl inst noodl wai wai pack thailand</td>\n",
              "      <td>Pack</td>\n",
              "      <td>Thailand</td>\n",
              "      <td>1</td>\n",
              "    </tr>\n",
              "    <tr>\n",
              "      <th>2577</th>\n",
              "      <td>Wai Wai</td>\n",
              "      <td>tom yum shrimp wai wai pack thailand</td>\n",
              "      <td>Pack</td>\n",
              "      <td>Thailand</td>\n",
              "      <td>2</td>\n",
              "    </tr>\n",
              "    <tr>\n",
              "      <th>2578</th>\n",
              "      <td>Wai Wai</td>\n",
              "      <td>tom yum chil flav wai wai pack thailand</td>\n",
              "      <td>Pack</td>\n",
              "      <td>Thailand</td>\n",
              "      <td>2</td>\n",
              "    </tr>\n",
              "    <tr>\n",
              "      <th>2579</th>\n",
              "      <td>Westbrae</td>\n",
              "      <td>miso ram westbra pack us</td>\n",
              "      <td>Pack</td>\n",
              "      <td>USA</td>\n",
              "      <td>0.5</td>\n",
              "    </tr>\n",
              "  </tbody>\n",
              "</table>\n",
              "<p>2580 rows × 5 columns</p>\n",
              "</div>"
            ],
            "text/plain": [
              "               Brand  ... Stars\n",
              "0          New Touch  ...  3.75\n",
              "1           Just Way  ...     1\n",
              "2             Nissin  ...  2.25\n",
              "3            Wei Lih  ...  2.75\n",
              "4     Ching's Secret  ...  3.75\n",
              "...              ...  ...   ...\n",
              "2575           Vifon  ...   3.5\n",
              "2576         Wai Wai  ...     1\n",
              "2577         Wai Wai  ...     2\n",
              "2578         Wai Wai  ...     2\n",
              "2579        Westbrae  ...   0.5\n",
              "\n",
              "[2580 rows x 5 columns]"
            ]
          },
          "metadata": {},
          "execution_count": 35
        }
      ]
    },
    {
      "cell_type": "code",
      "metadata": {
        "id": "SC79gtzWjacZ"
      },
      "source": [
        "vectorizer = CountVectorizer(binary=True,min_df=5)\n",
        "\n",
        "#Fitting and processing countVectorizer\n",
        "vectorizer.fit(train_data[\"Variety\"])\n",
        "train_vector = vectorizer.transform(train_data[\"Variety\"])"
      ],
      "execution_count": 38,
      "outputs": []
    },
    {
      "cell_type": "code",
      "metadata": {
        "id": "USopdDfZnWxK"
      },
      "source": [
        "#train_data_ohe = pd.get_dummies(train_data)\n",
        "#train_data_ohe = train_data_ohe.fillna(0)"
      ],
      "execution_count": 24,
      "outputs": []
    },
    {
      "cell_type": "code",
      "metadata": {
        "id": "YU006iALqi-x"
      },
      "source": [
        "#K-means clustering\n",
        "kmeans_v = KMeans(n_clusters=10, random_state=0).fit(train_vector)"
      ],
      "execution_count": 39,
      "outputs": []
    },
    {
      "cell_type": "code",
      "metadata": {
        "colab": {
          "base_uri": "https://localhost:8080/"
        },
        "id": "SSADtKNmJ_eh",
        "outputId": "9e14d462-5e7b-42ce-8f35-7551d6acdf78"
      },
      "source": [
        "kmeans_v.labels_"
      ],
      "execution_count": 40,
      "outputs": [
        {
          "output_type": "execute_result",
          "data": {
            "text/plain": [
              "array([2, 4, 1, ..., 9, 9, 9], dtype=int32)"
            ]
          },
          "metadata": {},
          "execution_count": 40
        }
      ]
    },
    {
      "cell_type": "code",
      "metadata": {
        "colab": {
          "base_uri": "https://localhost:8080/",
          "height": 417
        },
        "id": "BWESFrP9MeUC",
        "outputId": "009ff0c6-e5a4-4d1f-9141-b37400e6cb7a"
      },
      "source": [
        "x = pd.read_csv(\"ramen-ratings.csv\")\n",
        "x = x.iloc[:, 1:-2]\n",
        "x[\"label2\"] = kmeans_v.labels_\n",
        "x"
      ],
      "execution_count": 41,
      "outputs": [
        {
          "output_type": "execute_result",
          "data": {
            "text/html": [
              "<div>\n",
              "<style scoped>\n",
              "    .dataframe tbody tr th:only-of-type {\n",
              "        vertical-align: middle;\n",
              "    }\n",
              "\n",
              "    .dataframe tbody tr th {\n",
              "        vertical-align: top;\n",
              "    }\n",
              "\n",
              "    .dataframe thead th {\n",
              "        text-align: right;\n",
              "    }\n",
              "</style>\n",
              "<table border=\"1\" class=\"dataframe\">\n",
              "  <thead>\n",
              "    <tr style=\"text-align: right;\">\n",
              "      <th></th>\n",
              "      <th>Brand</th>\n",
              "      <th>Variety</th>\n",
              "      <th>Style</th>\n",
              "      <th>Country</th>\n",
              "      <th>label2</th>\n",
              "    </tr>\n",
              "  </thead>\n",
              "  <tbody>\n",
              "    <tr>\n",
              "      <th>0</th>\n",
              "      <td>New Touch</td>\n",
              "      <td>T's Restaurant Tantanmen</td>\n",
              "      <td>Cup</td>\n",
              "      <td>Japan</td>\n",
              "      <td>2</td>\n",
              "    </tr>\n",
              "    <tr>\n",
              "      <th>1</th>\n",
              "      <td>Just Way</td>\n",
              "      <td>Noodles Spicy Hot Sesame Spicy Hot Sesame Guan...</td>\n",
              "      <td>Pack</td>\n",
              "      <td>Taiwan</td>\n",
              "      <td>4</td>\n",
              "    </tr>\n",
              "    <tr>\n",
              "      <th>2</th>\n",
              "      <td>Nissin</td>\n",
              "      <td>Cup Noodles Chicken Vegetable</td>\n",
              "      <td>Cup</td>\n",
              "      <td>USA</td>\n",
              "      <td>1</td>\n",
              "    </tr>\n",
              "    <tr>\n",
              "      <th>3</th>\n",
              "      <td>Wei Lih</td>\n",
              "      <td>GGE Ramen Snack Tomato Flavor</td>\n",
              "      <td>Pack</td>\n",
              "      <td>Taiwan</td>\n",
              "      <td>4</td>\n",
              "    </tr>\n",
              "    <tr>\n",
              "      <th>4</th>\n",
              "      <td>Ching's Secret</td>\n",
              "      <td>Singapore Curry</td>\n",
              "      <td>Pack</td>\n",
              "      <td>India</td>\n",
              "      <td>9</td>\n",
              "    </tr>\n",
              "    <tr>\n",
              "      <th>...</th>\n",
              "      <td>...</td>\n",
              "      <td>...</td>\n",
              "      <td>...</td>\n",
              "      <td>...</td>\n",
              "      <td>...</td>\n",
              "    </tr>\n",
              "    <tr>\n",
              "      <th>2575</th>\n",
              "      <td>Vifon</td>\n",
              "      <td>Hu Tiu Nam Vang [\"Phnom Penh\" style] Asian Sty...</td>\n",
              "      <td>Bowl</td>\n",
              "      <td>Vietnam</td>\n",
              "      <td>0</td>\n",
              "    </tr>\n",
              "    <tr>\n",
              "      <th>2576</th>\n",
              "      <td>Wai Wai</td>\n",
              "      <td>Oriental Style Instant Noodles</td>\n",
              "      <td>Pack</td>\n",
              "      <td>Thailand</td>\n",
              "      <td>3</td>\n",
              "    </tr>\n",
              "    <tr>\n",
              "      <th>2577</th>\n",
              "      <td>Wai Wai</td>\n",
              "      <td>Tom Yum Shrimp</td>\n",
              "      <td>Pack</td>\n",
              "      <td>Thailand</td>\n",
              "      <td>9</td>\n",
              "    </tr>\n",
              "    <tr>\n",
              "      <th>2578</th>\n",
              "      <td>Wai Wai</td>\n",
              "      <td>Tom Yum Chili Flavor</td>\n",
              "      <td>Pack</td>\n",
              "      <td>Thailand</td>\n",
              "      <td>9</td>\n",
              "    </tr>\n",
              "    <tr>\n",
              "      <th>2579</th>\n",
              "      <td>Westbrae</td>\n",
              "      <td>Miso Ramen</td>\n",
              "      <td>Pack</td>\n",
              "      <td>USA</td>\n",
              "      <td>9</td>\n",
              "    </tr>\n",
              "  </tbody>\n",
              "</table>\n",
              "<p>2580 rows × 5 columns</p>\n",
              "</div>"
            ],
            "text/plain": [
              "               Brand  ... label2\n",
              "0          New Touch  ...      2\n",
              "1           Just Way  ...      4\n",
              "2             Nissin  ...      1\n",
              "3            Wei Lih  ...      4\n",
              "4     Ching's Secret  ...      9\n",
              "...              ...  ...    ...\n",
              "2575           Vifon  ...      0\n",
              "2576         Wai Wai  ...      3\n",
              "2577         Wai Wai  ...      9\n",
              "2578         Wai Wai  ...      9\n",
              "2579        Westbrae  ...      9\n",
              "\n",
              "[2580 rows x 5 columns]"
            ]
          },
          "metadata": {},
          "execution_count": 41
        }
      ]
    },
    {
      "cell_type": "code",
      "metadata": {
        "id": "nOCmu669UsoK"
      },
      "source": [
        "#train_data_ohe[\"name\"] = \"sample0_\" + x.index.astype(str) \n",
        "#train_data_ohe = train_data_ohe[ [\"name\"] + [ col for col in train_data_ohe.columns if col != \"name\"] ]\n",
        "#train_data_ohe"
      ],
      "execution_count": 31,
      "outputs": []
    }
  ]
}